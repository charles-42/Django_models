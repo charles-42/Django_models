{
 "cells": [
  {
   "cell_type": "markdown",
   "metadata": {},
   "source": [
    "Sur le terminal:\n",
    "- créer et activer un environnement virtuel : \n",
    "  - python3 -m venv env\n",
    "  - source env/bin/activate\n",
    "- installer django\n",
    "  - pip install django \n",
    "- commencer un fichier requierements\n",
    "  - pip3 freeze > requirements.txt\n",
    "- créer un projet django et entrer dedans\n",
    "  - django-admin startproject djmodels\n",
    "  - cd djmodels/\n",
    "- faire les migration\n",
    "  - python3 manage.py migrate\n",
    "- Creer une première application et l'ajouter aux settings\n",
    "  - python3 manage.py startapp myapp\n",
    "- Créer une vue hello, qui renvoie du code http et l'url hello/ associé\n",
    "- Creer un premier modèle et faire des migrations\n",
    "- Creer les pages read (get) de liste et get unique\n",
    "- Créer les pages create (post) du premier modèle"
   ]
  }
 ],
 "metadata": {
  "kernelspec": {
   "display_name": "Python 3.9.12 ('env': venv)",
   "language": "python",
   "name": "python3"
  },
  "language_info": {
   "name": "python",
   "version": "3.9.12"
  },
  "orig_nbformat": 4,
  "vscode": {
   "interpreter": {
    "hash": "1457657f546a4d7abf36e7f4ca4bacf985c139726639c2e4112ff27f9fb99a7b"
   }
  }
 },
 "nbformat": 4,
 "nbformat_minor": 2
}
